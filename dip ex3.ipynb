{
 "cells": [
  {
   "cell_type": "code",
   "execution_count": 1,
   "id": "590c90bd",
   "metadata": {},
   "outputs": [
    {
     "data": {
      "text/plain": [
       "<function destroyAllWindows>"
      ]
     },
     "execution_count": 1,
     "metadata": {},
     "output_type": "execute_result"
    }
   ],
   "source": [
    "# BGR TO HSV\n",
    "\n",
    "import cv2\n",
    "image =cv2.imread('ship.jpg')\n",
    "cv2.imshow('original',image)\n",
    "b_h=cv2.cvtColor(image,cv2.COLOR_BGR2HSV)\n",
    "cv2.imshow('BGR_HSV',b_h)\n",
    "cv2.waitKey(0)\n",
    "cv2.destroyAllWindows"
   ]
  },
  {
   "cell_type": "code",
   "execution_count": 2,
   "id": "43cc8856",
   "metadata": {},
   "outputs": [
    {
     "data": {
      "text/plain": [
       "<function destroyAllWindows>"
      ]
     },
     "execution_count": 2,
     "metadata": {},
     "output_type": "execute_result"
    }
   ],
   "source": [
    "# BGR TO GRAY\n",
    "\n",
    "import cv2\n",
    "image =cv2.imread('ship.jpg')\n",
    "cv2.imshow('original',image)\n",
    "b_g=cv2.cvtColor(image,cv2.COLOR_BGR2GRAY)\n",
    "cv2.imshow('BGR_GRAY',b_g)\n",
    "cv2.waitKey(0)\n",
    "cv2.destroyAllWindows"
   ]
  },
  {
   "cell_type": "code",
   "execution_count": 3,
   "id": "3fc4ef33",
   "metadata": {},
   "outputs": [
    {
     "data": {
      "text/plain": [
       "<function destroyAllWindows>"
      ]
     },
     "execution_count": 3,
     "metadata": {},
     "output_type": "execute_result"
    }
   ],
   "source": [
    "# RGB TO HSV\n",
    "\n",
    "import cv2\n",
    "image =cv2.imread('ship.jpg')\n",
    "cv2.imshow('original',image)\n",
    "r_h=cv2.cvtColor(image,cv2.COLOR_RGB2HSV)\n",
    "cv2.imshow('RGB_HSV',r_h)\n",
    "cv2.waitKey(0)\n",
    "cv2.destroyAllWindows\n"
   ]
  },
  {
   "cell_type": "code",
   "execution_count": null,
   "id": "e7a6dd82",
   "metadata": {},
   "outputs": [],
   "source": [
    "# RGB TO GRAY\n",
    "\n",
    "import cv2\n",
    "image =cv2.imread('ship.jpg')\n",
    "cv2.imshow('original',image)\n",
    "r_g=cv2.cvtColor(image,cv2.COLOR_RGB2GRAY)\n",
    "cv2.imshow('RGB_GRAY',r_g)\n",
    "cv2.waitKey(0)\n",
    "cv2.destroyAllWindows"
   ]
  },
  {
   "cell_type": "code",
   "execution_count": null,
   "id": "7c752312",
   "metadata": {},
   "outputs": [],
   "source": [
    "# HSV TO RGB\n",
    "\n",
    "import cv2\n",
    "ori=cv2.imread('bgr2hsv.png')\n",
    "cv2.imshow('hsvtorgb',ori)\n",
    "h_r=cv2.cvtColor(ori,cv2.COLOR_HSV2RGB)\n",
    "cv2.imshow('HSV_RGB',h_r)\n",
    "cv2.waitKey(0)\n",
    "cv2.destroyAllWindows"
   ]
  },
  {
   "cell_type": "code",
   "execution_count": null,
   "id": "7ed5b4de",
   "metadata": {},
   "outputs": [],
   "source": [
    "# HSV TO BGR\n",
    "\n",
    "import cv2\n",
    "ori=cv2.imread('bgr2hsv.png')\n",
    "cv2.imshow('Original',ori)\n",
    "h_b=cv2.cvtColor(ori,cv2.COLOR_HSV2BGR)\n",
    "cv2.imshow('HSV_BGR',h_b)\n",
    "cv2.waitKey(0)\n",
    "cv2.destroyAllWindows"
   ]
  },
  {
   "cell_type": "code",
   "execution_count": 1,
   "id": "a8a7caf1",
   "metadata": {},
   "outputs": [
    {
     "data": {
      "text/plain": [
       "<function destroyAllWindows>"
      ]
     },
     "execution_count": 1,
     "metadata": {},
     "output_type": "execute_result"
    }
   ],
   "source": [
    "# RGB TO YCrCb\n",
    "\n",
    "import cv2\n",
    "ori=cv2.imread('hsv2rgb.png')\n",
    "YCrCb_image = cv2.cvtColor(ori, cv2.COLOR_RGB2YCrCb)\n",
    "cv2.imshow('RGB_YCRCB',YCrCb_image)\n",
    "cv2.waitKey(0)\n",
    "cv2.destroyAllWindows"
   ]
  },
  {
   "cell_type": "code",
   "execution_count": 1,
   "id": "fabbaef8",
   "metadata": {},
   "outputs": [
    {
     "data": {
      "text/plain": [
       "<function destroyAllWindows>"
      ]
     },
     "execution_count": 1,
     "metadata": {},
     "output_type": "execute_result"
    }
   ],
   "source": [
    "# BGR TO YCrCb\n",
    "\n",
    "import cv2\n",
    "image1=cv2.imread('ship.jpg')\n",
    "YCrCb_image = cv2.cvtColor(image1, cv2.COLOR_BGR2YCrCb)\n",
    "cv2.imshow('BGR_YCRCB',YCrCb_image)\n",
    "cv2.waitKey(0)\n",
    "cv2.destroyAllWindows\n"
   ]
  },
  {
   "cell_type": "code",
   "execution_count": 1,
   "id": "559743bc",
   "metadata": {},
   "outputs": [],
   "source": [
    "import cv2\n",
    "img = cv2.imread(\"ship.jpg\")\n",
    "img1= cv2.resize(img, (270,180))\n",
    "cv2\n",
    "b,g,r = cv2.split(img1)\n",
    "cv2.imshow(\"RED MODEL\", r)\n",
    "cv2.imshow(\"GREEN MODEL\", g)\n",
    "cv2.imshow(\"BLUE MODEL \", b)\n",
    "merger = cv2.merge([b,g,r])\n",
    "cv2.imshow(\"MERGED IMAGE\", merger )\n",
    "cv2.waitKey(0)\n",
    "cv2.destroyAllWindows()\n"
   ]
  },
  {
   "cell_type": "code",
   "execution_count": 2,
   "id": "13531977",
   "metadata": {},
   "outputs": [],
   "source": [
    "\n"
   ]
  },
  {
   "cell_type": "code",
   "execution_count": null,
   "id": "dbc5b5c9",
   "metadata": {},
   "outputs": [],
   "source": []
  }
 ],
 "metadata": {
  "kernelspec": {
   "display_name": "Python 3 (ipykernel)",
   "language": "python",
   "name": "python3"
  },
  "language_info": {
   "codemirror_mode": {
    "name": "ipython",
    "version": 3
   },
   "file_extension": ".py",
   "mimetype": "text/x-python",
   "name": "python",
   "nbconvert_exporter": "python",
   "pygments_lexer": "ipython3",
   "version": "3.8.12"
  }
 },
 "nbformat": 4,
 "nbformat_minor": 5
}
